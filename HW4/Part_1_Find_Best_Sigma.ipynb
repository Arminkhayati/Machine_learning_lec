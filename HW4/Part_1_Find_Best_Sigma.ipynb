{
 "cells": [
  {
   "cell_type": "code",
   "execution_count": 27,
   "metadata": {},
   "outputs": [],
   "source": [
    "import numpy as np\n",
    "import pandas as pd\n",
    "import copy\n",
    "import numpy as np\n",
    "from collections import Counter\n",
    "from sklearn.utils import resample\n",
    "from sklearn.model_selection import train_test_split\n",
    "from sklearn.metrics import classification_report\n",
    "from sklearn.metrics import accuracy_score\n",
    "from sklearn.metrics import confusion_matrix\n",
    "from sklearn.metrics import ConfusionMatrixDisplay\n",
    "import datetime "
   ]
  },
  {
   "cell_type": "code",
   "execution_count": 28,
   "metadata": {},
   "outputs": [],
   "source": [
    "SIGMA = 0.1\n",
    "\n",
    "def pairwise_euclidean_distance(X, Y, squared=False):\n",
    "    XX = np.dot(X,X.T).diagonal()[:, np.newaxis]\n",
    "    YY = np.dot(Y,Y.T).diagonal()[np.newaxis, :]\n",
    "    distances = (-2 * np.dot(X,Y.T)) + XX + YY\n",
    "    np.maximum(distances, 0, out=distances)\n",
    "    if X is Y:\n",
    "        np.fill_diagonal(distances, 0)\n",
    "    return distances if squared else np.sqrt(distances, out=distances)\n",
    "\n",
    "def pairwise_kernelized_euclidean_distance(X, Y, kernel, squared=False):\n",
    "    XX = kernel(X,X).diagonal()[:, np.newaxis]\n",
    "    YY = kernel(Y,Y).diagonal()[np.newaxis, :]\n",
    "    distances = (-2 * kernel(X,Y)) + XX + YY\n",
    "    np.maximum(distances, 0, out=distances)\n",
    "    if X is Y:\n",
    "        np.fill_diagonal(distances, 0)\n",
    "    return distances if squared else np.sqrt(distances, out=distances)\n",
    "\n",
    "def rbf_kernel(X, Y):\n",
    "    K = pairwise_euclidean_distance(X, Y, squared=True)\n",
    "    gamma = -1/(SIGMA**2)\n",
    "    K *= gamma\n",
    "    np.exp(K, K)\n",
    "    return K"
   ]
  },
  {
   "cell_type": "code",
   "execution_count": 37,
   "metadata": {},
   "outputs": [
    {
     "data": {
      "text/plain": [
       "{0.1: 0.21636363636363637,\n",
       " 0.15000000000000002: 0.21636363636363637,\n",
       " 0.20000000000000004: 0.21636363636363637,\n",
       " 0.25000000000000006: 0.21636363636363637,\n",
       " 0.30000000000000004: 0.21636363636363637,\n",
       " 0.3500000000000001: 0.21636363636363637,\n",
       " 0.40000000000000013: 0.21636363636363637,\n",
       " 0.45000000000000007: 0.21636363636363637,\n",
       " 0.5000000000000001: 0.21636363636363637,\n",
       " 0.5500000000000002: 0.21636363636363637,\n",
       " 0.6000000000000002: 0.21636363636363637,\n",
       " 0.6500000000000001: 0.21636363636363637,\n",
       " 0.7000000000000002: 0.21636363636363637,\n",
       " 0.7500000000000002: 0.21636363636363637,\n",
       " 0.8000000000000002: 0.21636363636363637,\n",
       " 0.8500000000000002: 0.21636363636363637,\n",
       " 0.9000000000000002: 0.21636363636363637,\n",
       " 0.9500000000000003: 0.21636363636363637,\n",
       " 1.0000000000000004: 0.21636363636363637}"
      ]
     },
     "execution_count": 37,
     "metadata": {},
     "output_type": "execute_result"
    }
   ],
   "source": [
    "from sklearn.model_selection import StratifiedKFold\n",
    "\n",
    "dataset = np.loadtxt('Datasets\\BreastTissue.txt', delimiter = '\\t', dtype='str') \n",
    "n = 9\n",
    "x = dataset[:,:n].astype(np.float)\n",
    "y = dataset[:,n]\n",
    "mean_acc = {}    \n",
    "\n",
    "for sigma in np.arange(0.1, 1.05, 0.05):\n",
    "    SIGMA = sigma\n",
    "    skf = StratifiedKFold(n_splits=10)\n",
    "    pred_list = []\n",
    "    for train, test in skf.split(x, y):\n",
    "        X_train, y_train, X_test, y_test = x[train], y[train], x[test], y[test]\n",
    "        distsances = pairwise_kernelized_euclidean_distance(X_train, X_test, rbf_kernel, squared=False)\n",
    "        nearest_neibours = np.argmin(distsances, axis=0)\n",
    "        predicted = y_train[nearest_neibours]\n",
    "        accuracy = accuracy_score(y_test, predicted)\n",
    "        pred_list.append(accuracy)\n",
    "    mean_acc[sigma] = np.mean(pred_list)\n",
    "mean_acc"
   ]
  },
  {
   "cell_type": "code",
   "execution_count": 23,
   "metadata": {},
   "outputs": [
    {
     "data": {
      "text/plain": [
       "{0.1: 0.631578947368421,\n",
       " 0.15000000000000002: 0.618421052631579,\n",
       " 0.20000000000000004: 0.5263157894736842,\n",
       " 0.25000000000000006: 0.5263157894736842,\n",
       " 0.30000000000000004: 0.5,\n",
       " 0.3500000000000001: 0.5131578947368423,\n",
       " 0.40000000000000013: 0.5657894736842105,\n",
       " 0.45000000000000007: 0.5789473684210528,\n",
       " 0.5000000000000001: 0.5921052631578947,\n",
       " 0.5500000000000002: 0.605263157894737,\n",
       " 0.6000000000000002: 0.605263157894737,\n",
       " 0.6500000000000001: 0.605263157894737,\n",
       " 0.7000000000000002: 0.605263157894737,\n",
       " 0.7500000000000002: 0.605263157894737,\n",
       " 0.8000000000000002: 0.605263157894737,\n",
       " 0.8500000000000002: 0.605263157894737,\n",
       " 0.9000000000000002: 0.605263157894737,\n",
       " 0.9500000000000003: 0.605263157894737,\n",
       " 1.0000000000000004: 0.605263157894737}"
      ]
     },
     "execution_count": 23,
     "metadata": {},
     "output_type": "execute_result"
    }
   ],
   "source": [
    "from sklearn.model_selection import StratifiedKFold\n",
    "\n",
    "dataset = np.loadtxt('Datasets\\Diabetes.txt', delimiter = '\\t', dtype='str')\n",
    "n = 8\n",
    "x = dataset[:,:n].astype(np.float)\n",
    "y = dataset[:,n]\n",
    "mean_acc = {}    \n",
    "\n",
    "for sigma in np.arange(0.1, 1.05, 0.05):\n",
    "    SIGMA = sigma\n",
    "    skf = StratifiedKFold(n_splits=10)\n",
    "    pred_list = []\n",
    "    for train, test in skf.split(x, y):\n",
    "        X_train, y_train, X_test, y_test = x[train], y[train], x[test], y[test]\n",
    "        distsances = pairwise_kernelized_euclidean_distance(X_train, X_test, rbf_kernel, squared=False)\n",
    "        nearest_neibours = np.argmin(distsances, axis=0)\n",
    "        predicted = y_train[nearest_neibours]\n",
    "        accuracy = accuracy_score(y_test, predicted)\n",
    "        pred_list.append(accuracy)\n",
    "    mean_acc[sigma] = np.mean(pred_list)\n",
    "mean_acc"
   ]
  },
  {
   "cell_type": "code",
   "execution_count": 33,
   "metadata": {},
   "outputs": [
    {
     "data": {
      "text/plain": [
       "{0.1: 0.5656199677938809,\n",
       " 0.15000000000000002: 0.5938003220611916,\n",
       " 0.20000000000000004: 0.6125201288244768,\n",
       " 0.25000000000000006: 0.6360708534621579,\n",
       " 0.30000000000000004: 0.645330112721417,\n",
       " 0.3500000000000001: 0.6545893719806765,\n",
       " 0.40000000000000013: 0.6545893719806765,\n",
       " 0.45000000000000007: 0.6638486312399356,\n",
       " 0.5000000000000001: 0.6638486312399356,\n",
       " 0.5500000000000002: 0.6638486312399356,\n",
       " 0.6000000000000002: 0.6638486312399356,\n",
       " 0.6500000000000001: 0.6686795491143318,\n",
       " 0.7000000000000002: 0.6686795491143318,\n",
       " 0.7500000000000002: 0.6686795491143318,\n",
       " 0.8000000000000002: 0.6733091787439613,\n",
       " 0.8500000000000002: 0.6733091787439613,\n",
       " 0.9000000000000002: 0.6733091787439613,\n",
       " 0.9500000000000003: 0.6733091787439613,\n",
       " 1.0000000000000004: 0.6733091787439613}"
      ]
     },
     "execution_count": 33,
     "metadata": {},
     "output_type": "execute_result"
    }
   ],
   "source": [
    "from sklearn.model_selection import StratifiedKFold\n",
    "\n",
    "dataset = np.loadtxt('Datasets\\Glass.txt', delimiter = '\\t', dtype='str')\n",
    "n = 9\n",
    "x = dataset[:,:n].astype(np.float)\n",
    "y = dataset[:,n]\n",
    "mean_acc = {}    \n",
    "\n",
    "for sigma in np.arange(0.1, 1.05, 0.05):\n",
    "    SIGMA = sigma\n",
    "    skf = StratifiedKFold(n_splits=9)\n",
    "    pred_list = []\n",
    "    for train, test in skf.split(x, y):\n",
    "        X_train, y_train, X_test, y_test = x[train], y[train], x[test], y[test]\n",
    "        distsances = pairwise_kernelized_euclidean_distance(X_train, X_test, rbf_kernel, squared=False)\n",
    "        nearest_neibours = np.argmin(distsances, axis=0)\n",
    "        predicted = y_train[nearest_neibours]\n",
    "        accuracy = accuracy_score(y_test, predicted)\n",
    "        pred_list.append(accuracy)\n",
    "    mean_acc[sigma] = np.mean(pred_list)\n",
    "mean_acc"
   ]
  },
  {
   "cell_type": "code",
   "execution_count": 34,
   "metadata": {},
   "outputs": [
    {
     "data": {
      "text/plain": [
       "{0.1: 0.6553968253968254,\n",
       " 0.15000000000000002: 0.6719047619047619,\n",
       " 0.20000000000000004: 0.6803174603174603,\n",
       " 0.25000000000000006: 0.6858730158730159,\n",
       " 0.30000000000000004: 0.7028571428571427,\n",
       " 0.3500000000000001: 0.7030952380952381,\n",
       " 0.40000000000000013: 0.7116666666666667,\n",
       " 0.45000000000000007: 0.7316666666666667,\n",
       " 0.5000000000000001: 0.7431746031746032,\n",
       " 0.5500000000000002: 0.7603968253968254,\n",
       " 0.6000000000000002: 0.7775396825396825,\n",
       " 0.6500000000000001: 0.7919047619047619,\n",
       " 0.7000000000000002: 0.8119047619047619,\n",
       " 0.7500000000000002: 0.8261904761904763,\n",
       " 0.8000000000000002: 0.8461904761904762,\n",
       " 0.8500000000000002: 0.8433333333333334,\n",
       " 0.9000000000000002: 0.8461904761904762,\n",
       " 0.9500000000000003: 0.8461904761904762,\n",
       " 1.0000000000000004: 0.8461904761904762}"
      ]
     },
     "execution_count": 34,
     "metadata": {},
     "output_type": "execute_result"
    }
   ],
   "source": [
    "from sklearn.model_selection import StratifiedKFold\n",
    "\n",
    "dataset = np.loadtxt('Datasets\\Ionosphere.txt', delimiter = ',', dtype='str')\n",
    "n = 34\n",
    "x = dataset[:,:n].astype(np.float)\n",
    "y = dataset[:,n]\n",
    "mean_acc = {}    \n",
    "\n",
    "for sigma in np.arange(0.1, 1.05, 0.05):\n",
    "    SIGMA = sigma\n",
    "    skf = StratifiedKFold(n_splits=10)\n",
    "    pred_list = []\n",
    "    for train, test in skf.split(x, y):\n",
    "        X_train, y_train, X_test, y_test = x[train], y[train], x[test], y[test]\n",
    "        distsances = pairwise_kernelized_euclidean_distance(X_train, X_test, rbf_kernel, squared=False)\n",
    "        nearest_neibours = np.argmin(distsances, axis=0)\n",
    "        predicted = y_train[nearest_neibours]\n",
    "        accuracy = accuracy_score(y_test, predicted)\n",
    "        pred_list.append(accuracy)\n",
    "    mean_acc[sigma] = np.mean(pred_list)\n",
    "mean_acc"
   ]
  },
  {
   "cell_type": "code",
   "execution_count": 35,
   "metadata": {},
   "outputs": [
    {
     "data": {
      "text/plain": [
       "{0.1: 0.5592857142857143,\n",
       " 0.15000000000000002: 0.5633333333333332,\n",
       " 0.20000000000000004: 0.605952380952381,\n",
       " 0.25000000000000006: 0.6057142857142858,\n",
       " 0.30000000000000004: 0.6057142857142858,\n",
       " 0.3500000000000001: 0.6057142857142858,\n",
       " 0.40000000000000013: 0.6057142857142858,\n",
       " 0.45000000000000007: 0.6057142857142858,\n",
       " 0.5000000000000001: 0.6057142857142858,\n",
       " 0.5500000000000002: 0.6057142857142858,\n",
       " 0.6000000000000002: 0.6057142857142858,\n",
       " 0.6500000000000001: 0.6057142857142858,\n",
       " 0.7000000000000002: 0.6057142857142858,\n",
       " 0.7500000000000002: 0.6057142857142858,\n",
       " 0.8000000000000002: 0.6057142857142858,\n",
       " 0.8500000000000002: 0.6057142857142858,\n",
       " 0.9000000000000002: 0.6057142857142858,\n",
       " 0.9500000000000003: 0.6057142857142858,\n",
       " 1.0000000000000004: 0.6057142857142858}"
      ]
     },
     "execution_count": 35,
     "metadata": {},
     "output_type": "execute_result"
    }
   ],
   "source": [
    "from sklearn.model_selection import StratifiedKFold\n",
    "\n",
    "dataset = np.loadtxt('Datasets\\Sonar.txt', delimiter = ',', dtype='str')\n",
    "n = 60\n",
    "x = dataset[:,:n].astype(np.float)\n",
    "y = dataset[:,n]\n",
    "mean_acc = {}    \n",
    "\n",
    "for sigma in np.arange(0.1, 1.05, 0.05):\n",
    "    SIGMA = sigma\n",
    "    skf = StratifiedKFold(n_splits=10)\n",
    "    pred_list = []\n",
    "    for train, test in skf.split(x, y):\n",
    "        X_train, y_train, X_test, y_test = x[train], y[train], x[test], y[test]\n",
    "        distsances = pairwise_kernelized_euclidean_distance(X_train, X_test, rbf_kernel, squared=False)\n",
    "        nearest_neibours = np.argmin(distsances, axis=0)\n",
    "        predicted = y_train[nearest_neibours]\n",
    "        accuracy = accuracy_score(y_test, predicted)\n",
    "        pred_list.append(accuracy)\n",
    "    mean_acc[sigma] = np.mean(pred_list)\n",
    "mean_acc"
   ]
  },
  {
   "cell_type": "code",
   "execution_count": 36,
   "metadata": {},
   "outputs": [
    {
     "data": {
      "text/plain": [
       "{0.1: 0.33137254901960783,\n",
       " 0.15000000000000002: 0.33137254901960783,\n",
       " 0.20000000000000004: 0.33137254901960783,\n",
       " 0.25000000000000006: 0.33137254901960783,\n",
       " 0.30000000000000004: 0.33137254901960783,\n",
       " 0.3500000000000001: 0.33137254901960783,\n",
       " 0.40000000000000013: 0.33137254901960783,\n",
       " 0.45000000000000007: 0.35424836601307186,\n",
       " 0.5000000000000001: 0.35424836601307186,\n",
       " 0.5500000000000002: 0.35424836601307186,\n",
       " 0.6000000000000002: 0.365359477124183,\n",
       " 0.6500000000000001: 0.376797385620915,\n",
       " 0.7000000000000002: 0.38790849673202615,\n",
       " 0.7500000000000002: 0.38790849673202615,\n",
       " 0.8000000000000002: 0.40522875816993464,\n",
       " 0.8500000000000002: 0.40522875816993464,\n",
       " 0.9000000000000002: 0.4385620915032679,\n",
       " 0.9500000000000003: 0.4385620915032679,\n",
       " 1.0000000000000004: 0.47777777777777775}"
      ]
     },
     "execution_count": 36,
     "metadata": {},
     "output_type": "execute_result"
    }
   ],
   "source": [
    "from sklearn.model_selection import StratifiedKFold\n",
    "\n",
    "dataset = np.loadtxt('Datasets\\Wine.txt', delimiter = ', ', dtype='str')\n",
    "n = 13\n",
    "x = dataset[:,:n].astype(np.float)\n",
    "y = dataset[:,n]\n",
    "mean_acc = {}    \n",
    "\n",
    "for sigma in np.arange(0.1, 1.05, 0.05):\n",
    "    SIGMA = sigma\n",
    "    skf = StratifiedKFold(n_splits=10)\n",
    "    pred_list = []\n",
    "    for train, test in skf.split(x, y):\n",
    "        X_train, y_train, X_test, y_test = x[train], y[train], x[test], y[test]\n",
    "        distsances = pairwise_kernelized_euclidean_distance(X_train, X_test, rbf_kernel, squared=False)\n",
    "        nearest_neibours = np.argmin(distsances, axis=0)\n",
    "        predicted = y_train[nearest_neibours]\n",
    "        accuracy = accuracy_score(y_test, predicted)\n",
    "        pred_list.append(accuracy)\n",
    "    mean_acc[sigma] = np.mean(pred_list)\n",
    "mean_acc"
   ]
  },
  {
   "cell_type": "code",
   "execution_count": null,
   "metadata": {},
   "outputs": [],
   "source": []
  },
  {
   "cell_type": "code",
   "execution_count": null,
   "metadata": {},
   "outputs": [],
   "source": []
  }
 ],
 "metadata": {
  "kernelspec": {
   "display_name": "Python 3",
   "language": "python",
   "name": "python3"
  },
  "language_info": {
   "codemirror_mode": {
    "name": "ipython",
    "version": 3
   },
   "file_extension": ".py",
   "mimetype": "text/x-python",
   "name": "python",
   "nbconvert_exporter": "python",
   "pygments_lexer": "ipython3",
   "version": "3.8.5"
  }
 },
 "nbformat": 4,
 "nbformat_minor": 5
}
